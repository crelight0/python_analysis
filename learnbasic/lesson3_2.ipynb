{
 "cells": [
  {
   "cell_type": "code",
   "execution_count": 87,
   "metadata": {},
   "outputs": [
    {
     "data": {
      "text/plain": [
       "{'name': 'ttl', 'age': 40, 'city': 'Taipei'}"
      ]
     },
     "execution_count": 87,
     "metadata": {},
     "output_type": "execute_result"
    }
   ],
   "source": [
    "p1 = {'name':'ttl',\n",
    "'age':40,\n",
    "'city':'Taipei'}\n",
    "p1"
   ]
  },
  {
   "cell_type": "code",
   "execution_count": 88,
   "metadata": {},
   "outputs": [
    {
     "name": "stdout",
     "output_type": "stream",
     "text": [
      "ttl\n",
      "40\n"
     ]
    }
   ],
   "source": [
    "print(p1['name'])\n",
    "print(p1.get('age'))"
   ]
  },
  {
   "cell_type": "code",
   "execution_count": 89,
   "metadata": {},
   "outputs": [
    {
     "data": {
      "text/plain": [
       "40"
      ]
     },
     "execution_count": 89,
     "metadata": {},
     "output_type": "execute_result"
    }
   ],
   "source": [
    "del p1['city']\n",
    "p1.pop('age')"
   ]
  },
  {
   "cell_type": "code",
   "execution_count": 90,
   "metadata": {},
   "outputs": [],
   "source": [
    "del p1"
   ]
  },
  {
   "cell_type": "code",
   "execution_count": 91,
   "metadata": {},
   "outputs": [
    {
     "ename": "NameError",
     "evalue": "name 'p1' is not defined",
     "output_type": "error",
     "traceback": [
      "\u001b[0;31m---------------------------------------------------------------------------\u001b[0m",
      "\u001b[0;31mNameError\u001b[0m                                 Traceback (most recent call last)",
      "Cell \u001b[0;32mIn[91], line 1\u001b[0m\n\u001b[0;32m----> 1\u001b[0m \u001b[43mp1\u001b[49m\n",
      "\u001b[0;31mNameError\u001b[0m: name 'p1' is not defined"
     ]
    }
   ],
   "source": [
    "p1"
   ]
  },
  {
   "cell_type": "code",
   "execution_count": 23,
   "metadata": {},
   "outputs": [
    {
     "name": "stdout",
     "output_type": "stream",
     "text": [
      "Paris\n",
      "{'USA': 'Washington, D.C.', 'France': 'Paris', 'Japan': 'Kyoto', 'Germany': 'Berlin'}\n",
      "False\n"
     ]
    }
   ],
   "source": [
    "capitals = {\"USA\":\"Washington, D.C.\",\"France\":\"Paris\",\"Japan\":\"Tokyo\"}\n",
    "print(capitals[\"France\"])\n",
    "\n",
    "capitals[\"Germany\"] = \"Berlin\"\n",
    "capitals[\"Japan\"] = \"Kyoto\"\n",
    "print(capitals)\n",
    "\n",
    "\n",
    "del capitals[\"USA\"]\n",
    "print(\"USA\" in capitals)\n"
   ]
  },
  {
   "cell_type": "code",
   "execution_count": 29,
   "metadata": {},
   "outputs": [
    {
     "name": "stdout",
     "output_type": "stream",
     "text": [
      "The capital of France is Marseille\n",
      "The capital of Japan is Kyoto\n",
      "The capital of Germany is Berlin\n",
      "The capital of Italy is Rome\n"
     ]
    }
   ],
   "source": [
    "for country, capital in capitals.items():\n",
    "    print(f\"The capital of {country} is {capital}\")\n"
   ]
  },
  {
   "cell_type": "code",
   "execution_count": 26,
   "metadata": {},
   "outputs": [
    {
     "name": "stdout",
     "output_type": "stream",
     "text": [
      "{'France': 'Marseille', 'Japan': 'Kyoto', 'Germany': 'Berlin', 'Italy': 'Rome'}\n",
      "4\n",
      "['France', 'Japan', 'Germany', 'Italy']\n",
      "['Marseille', 'Kyoto', 'Berlin', 'Rome']\n"
     ]
    }
   ],
   "source": [
    "more_capitals = {\"Italy\": \"Rome\", \"France\": \"Marseille\"}\n",
    "capitals.update(more_capitals)\n",
    "print(capitals)  # France 的首都會被更新為 Marseille\n",
    "\n",
    "print(len(capitals))           # 字典長度\n",
    "print(list(capitals.keys()))   # 所有鍵\n",
    "print(list(capitals.values())) # 所有值\n"
   ]
  },
  {
   "cell_type": "code",
   "execution_count": 27,
   "metadata": {},
   "outputs": [
    {
     "name": "stdout",
     "output_type": "stream",
     "text": [
      "{'Marseille': 'France', 'Kyoto': 'Japan', 'Berlin': 'Germany', 'Rome': 'Italy'}\n"
     ]
    }
   ],
   "source": [
    "reversed_dict = {value: key for key, value in capitals.items()}\n",
    "print(reversed_dict)\n"
   ]
  },
  {
   "cell_type": "code",
   "execution_count": 33,
   "metadata": {},
   "outputs": [
    {
     "name": "stdout",
     "output_type": "stream",
     "text": [
      "蘋果\n",
      "香蕉\n",
      "橘子\n"
     ]
    }
   ],
   "source": [
    "fruits = ['蘋果','香蕉','橘子']\n",
    "\n",
    "for fruit in fruits:\n",
    "    print(fruit)\n"
   ]
  },
  {
   "cell_type": "code",
   "execution_count": 35,
   "metadata": {},
   "outputs": [
    {
     "name": "stdout",
     "output_type": "stream",
     "text": [
      "(0, '蘋果')\n",
      "(1, '香蕉')\n",
      "(2, '橘子')\n"
     ]
    }
   ],
   "source": [
    "for fruit in enumerate(fruits):\n",
    "    print(fruit)"
   ]
  },
  {
   "cell_type": "code",
   "execution_count": 37,
   "metadata": {},
   "outputs": [
    {
     "name": "stdout",
     "output_type": "stream",
     "text": [
      "0->蘋果\n",
      "=====\n",
      "1->香蕉\n",
      "=====\n",
      "2->橘子\n",
      "=====\n"
     ]
    }
   ],
   "source": [
    "for index,fruit in enumerate(fruits):\n",
    "    print(index, fruit,sep='->')\n",
    "    print(\"=====\")"
   ]
  },
  {
   "cell_type": "code",
   "execution_count": 39,
   "metadata": {},
   "outputs": [
    {
     "name": "stdout",
     "output_type": "stream",
     "text": [
      "1\n",
      "2\n",
      "3\n",
      "4\n",
      "5\n",
      "6\n",
      "7\n",
      "8\n",
      "9\n",
      "10\n",
      "apple\n",
      "banana\n",
      "cherry\n",
      "date\n"
     ]
    }
   ],
   "source": [
    "for i in range(1,11):\n",
    "    print(i)\n",
    "\n",
    "fruits = [\"apple\", \"banana\", \"cherry\", \"date\"]\n",
    "\n",
    "for fruit in  fruits:\n",
    "    print(fruit)"
   ]
  },
  {
   "cell_type": "code",
   "execution_count": 43,
   "metadata": {},
   "outputs": [
    {
     "name": "stdout",
     "output_type": "stream",
     "text": [
      "Total: 150\n"
     ]
    }
   ],
   "source": [
    "numbers = [10,20,30,40,50]\n",
    "total = 0\n",
    "for num in numbers:\n",
    "    total += num\n",
    "print(\"Total:\", total)"
   ]
  },
  {
   "cell_type": "code",
   "execution_count": 56,
   "metadata": {},
   "outputs": [
    {
     "name": "stdout",
     "output_type": "stream",
     "text": [
      "Taipei:台北市\n",
      "New Taipei:新北市\n",
      "Taoyuan:桃園市\n",
      "Taichung:台中市\n",
      "Tainan:台南市\n",
      "Kaohsiung:高雄市\n",
      "Keelung:基隆市\n",
      "Hsinchu:新竹市\n",
      "Chiayi:嘉義市\n",
      "Yilan:宜蘭縣\n"
     ]
    }
   ],
   "source": [
    "taiwan_cities = {\n",
    "    \"Taipei\": \"台北市\",\n",
    "    \"New Taipei\": \"新北市\",\n",
    "    \"Taoyuan\": \"桃園市\",\n",
    "    \"Taichung\": \"台中市\",\n",
    "    \"Tainan\": \"台南市\",\n",
    "    \"Kaohsiung\": \"高雄市\",\n",
    "    \"Keelung\": \"基隆市\",\n",
    "    \"Hsinchu\": \"新竹市\",\n",
    "    \"Chiayi\": \"嘉義市\",\n",
    "    \"Yilan\": \"宜蘭縣\"\n",
    "}\n",
    "\n",
    "for key, value in taiwan_cities.items():\n",
    "    print(f\"{key}:{value}\")"
   ]
  },
  {
   "cell_type": "code",
   "execution_count": 61,
   "metadata": {},
   "outputs": [
    {
     "name": "stdout",
     "output_type": "stream",
     "text": [
      "2\n",
      "4\n",
      "6\n",
      "8\n",
      "10\n",
      "2\n",
      "4\n",
      "6\n",
      "8\n",
      "10\n"
     ]
    }
   ],
   "source": [
    "numbers = [1, 2, 3, 4, 5, 6, 7, 8, 9, 10]\n",
    "for num in numbers:\n",
    "    if num % 2 == 0:\n",
    "        print(num)\n",
    "\n",
    "numbers = range(1,11)\n",
    "for num in numbers:\n",
    "    if num % 2 == 0:\n",
    "        print(num)"
   ]
  },
  {
   "cell_type": "code",
   "execution_count": 67,
   "metadata": {},
   "outputs": [
    {
     "name": "stdout",
     "output_type": "stream",
     "text": [
      "1 x 1 = 1\n",
      "1 x 2 = 2\n",
      "1 x 3 = 3\n",
      "1 x 4 = 4\n",
      "1 x 5 = 5\n",
      "1 x 6 = 6\n",
      "1 x 7 = 7\n",
      "1 x 8 = 8\n",
      "1 x 9 = 9\n",
      "----------\n",
      "2 x 1 = 2\n",
      "2 x 2 = 4\n",
      "2 x 3 = 6\n",
      "2 x 4 = 8\n",
      "2 x 5 = 10\n",
      "2 x 6 = 12\n",
      "2 x 7 = 14\n",
      "2 x 8 = 16\n",
      "2 x 9 = 18\n",
      "----------\n",
      "3 x 1 = 3\n",
      "3 x 2 = 6\n",
      "3 x 3 = 9\n",
      "3 x 4 = 12\n",
      "3 x 5 = 15\n",
      "3 x 6 = 18\n",
      "3 x 7 = 21\n",
      "3 x 8 = 24\n",
      "3 x 9 = 27\n",
      "----------\n",
      "4 x 1 = 4\n",
      "4 x 2 = 8\n",
      "4 x 3 = 12\n",
      "4 x 4 = 16\n",
      "4 x 5 = 20\n",
      "4 x 6 = 24\n",
      "4 x 7 = 28\n",
      "4 x 8 = 32\n",
      "4 x 9 = 36\n",
      "----------\n",
      "5 x 1 = 5\n",
      "5 x 2 = 10\n",
      "5 x 3 = 15\n",
      "5 x 4 = 20\n",
      "5 x 5 = 25\n",
      "5 x 6 = 30\n",
      "5 x 7 = 35\n",
      "5 x 8 = 40\n",
      "5 x 9 = 45\n",
      "----------\n",
      "6 x 1 = 6\n",
      "6 x 2 = 12\n",
      "6 x 3 = 18\n",
      "6 x 4 = 24\n",
      "6 x 5 = 30\n",
      "6 x 6 = 36\n",
      "6 x 7 = 42\n",
      "6 x 8 = 48\n",
      "6 x 9 = 54\n",
      "----------\n",
      "7 x 1 = 7\n",
      "7 x 2 = 14\n",
      "7 x 3 = 21\n",
      "7 x 4 = 28\n",
      "7 x 5 = 35\n",
      "7 x 6 = 42\n",
      "7 x 7 = 49\n",
      "7 x 8 = 56\n",
      "7 x 9 = 63\n",
      "----------\n",
      "8 x 1 = 8\n",
      "8 x 2 = 16\n",
      "8 x 3 = 24\n",
      "8 x 4 = 32\n",
      "8 x 5 = 40\n",
      "8 x 6 = 48\n",
      "8 x 7 = 56\n",
      "8 x 8 = 64\n",
      "8 x 9 = 72\n",
      "----------\n",
      "9 x 1 = 9\n",
      "9 x 2 = 18\n",
      "9 x 3 = 27\n",
      "9 x 4 = 36\n",
      "9 x 5 = 45\n",
      "9 x 6 = 54\n",
      "9 x 7 = 63\n",
      "9 x 8 = 72\n",
      "9 x 9 = 81\n",
      "----------\n"
     ]
    }
   ],
   "source": [
    "for i in range(1,10):\n",
    "    for j in range(1,10):\n",
    "        print(f\"{i} x {j} = {i*j}\")\n",
    "    print(\"-\" * 10)"
   ]
  },
  {
   "cell_type": "code",
   "execution_count": 92,
   "metadata": {},
   "outputs": [
    {
     "data": {
      "text/plain": [
       "[{'name': 'student1',\n",
       "  'chinese': 66,\n",
       "  'english': 90,\n",
       "  'math': 63,\n",
       "  'history': 66,\n",
       "  'health': 78},\n",
       " {'name': 'student2',\n",
       "  'chinese': 75,\n",
       "  'english': 76,\n",
       "  'math': 59,\n",
       "  'history': 84,\n",
       "  'health': 70},\n",
       " {'name': 'student3',\n",
       "  'chinese': 54,\n",
       "  'english': 57,\n",
       "  'math': 100,\n",
       "  'history': 74,\n",
       "  'health': 62},\n",
       " {'name': 'student4',\n",
       "  'chinese': 72,\n",
       "  'english': 68,\n",
       "  'math': 79,\n",
       "  'history': 51,\n",
       "  'health': 63},\n",
       " {'name': 'student5',\n",
       "  'chinese': 70,\n",
       "  'english': 85,\n",
       "  'math': 83,\n",
       "  'history': 77,\n",
       "  'health': 86},\n",
       " {'name': 'student6',\n",
       "  'chinese': 52,\n",
       "  'english': 89,\n",
       "  'math': 84,\n",
       "  'history': 66,\n",
       "  'health': 62},\n",
       " {'name': 'student7',\n",
       "  'chinese': 87,\n",
       "  'english': 73,\n",
       "  'math': 67,\n",
       "  'history': 86,\n",
       "  'health': 59},\n",
       " {'name': 'student8',\n",
       "  'chinese': 67,\n",
       "  'english': 68,\n",
       "  'math': 60,\n",
       "  'history': 75,\n",
       "  'health': 52},\n",
       " {'name': 'student9',\n",
       "  'chinese': 62,\n",
       "  'english': 85,\n",
       "  'math': 97,\n",
       "  'history': 61,\n",
       "  'health': 93},\n",
       " {'name': 'student10',\n",
       "  'chinese': 71,\n",
       "  'english': 96,\n",
       "  'math': 74,\n",
       "  'history': 79,\n",
       "  'health': 66},\n",
       " {'name': 'student11',\n",
       "  'chinese': 59,\n",
       "  'english': 88,\n",
       "  'math': 70,\n",
       "  'history': 98,\n",
       "  'health': 69},\n",
       " {'name': 'student12',\n",
       "  'chinese': 86,\n",
       "  'english': 78,\n",
       "  'math': 83,\n",
       "  'history': 70,\n",
       "  'health': 92},\n",
       " {'name': 'student13',\n",
       "  'chinese': 95,\n",
       "  'english': 67,\n",
       "  'math': 51,\n",
       "  'history': 89,\n",
       "  'health': 53},\n",
       " {'name': 'student14',\n",
       "  'chinese': 88,\n",
       "  'english': 55,\n",
       "  'math': 85,\n",
       "  'history': 62,\n",
       "  'health': 56},\n",
       " {'name': 'student15',\n",
       "  'chinese': 77,\n",
       "  'english': 98,\n",
       "  'math': 81,\n",
       "  'history': 91,\n",
       "  'health': 86},\n",
       " {'name': 'student16',\n",
       "  'chinese': 81,\n",
       "  'english': 81,\n",
       "  'math': 87,\n",
       "  'history': 99,\n",
       "  'health': 74},\n",
       " {'name': 'student17',\n",
       "  'chinese': 96,\n",
       "  'english': 53,\n",
       "  'math': 88,\n",
       "  'history': 72,\n",
       "  'health': 74},\n",
       " {'name': 'student18',\n",
       "  'chinese': 70,\n",
       "  'english': 50,\n",
       "  'math': 64,\n",
       "  'history': 83,\n",
       "  'health': 82},\n",
       " {'name': 'student19',\n",
       "  'chinese': 56,\n",
       "  'english': 77,\n",
       "  'math': 84,\n",
       "  'history': 91,\n",
       "  'health': 88},\n",
       " {'name': 'student20',\n",
       "  'chinese': 56,\n",
       "  'english': 64,\n",
       "  'math': 64,\n",
       "  'history': 74,\n",
       "  'health': 56},\n",
       " {'name': 'student21',\n",
       "  'chinese': 68,\n",
       "  'english': 59,\n",
       "  'math': 72,\n",
       "  'history': 96,\n",
       "  'health': 75},\n",
       " {'name': 'student22',\n",
       "  'chinese': 77,\n",
       "  'english': 62,\n",
       "  'math': 87,\n",
       "  'history': 82,\n",
       "  'health': 56},\n",
       " {'name': 'student23',\n",
       "  'chinese': 50,\n",
       "  'english': 93,\n",
       "  'math': 83,\n",
       "  'history': 77,\n",
       "  'health': 79},\n",
       " {'name': 'student24',\n",
       "  'chinese': 96,\n",
       "  'english': 87,\n",
       "  'math': 90,\n",
       "  'history': 71,\n",
       "  'health': 74},\n",
       " {'name': 'student25',\n",
       "  'chinese': 52,\n",
       "  'english': 66,\n",
       "  'math': 95,\n",
       "  'history': 63,\n",
       "  'health': 74},\n",
       " {'name': 'student26',\n",
       "  'chinese': 56,\n",
       "  'english': 68,\n",
       "  'math': 62,\n",
       "  'history': 59,\n",
       "  'health': 84},\n",
       " {'name': 'student27',\n",
       "  'chinese': 95,\n",
       "  'english': 61,\n",
       "  'math': 57,\n",
       "  'history': 63,\n",
       "  'health': 51},\n",
       " {'name': 'student28',\n",
       "  'chinese': 75,\n",
       "  'english': 66,\n",
       "  'math': 92,\n",
       "  'history': 76,\n",
       "  'health': 70},\n",
       " {'name': 'student29',\n",
       "  'chinese': 100,\n",
       "  'english': 93,\n",
       "  'math': 54,\n",
       "  'history': 77,\n",
       "  'health': 75},\n",
       " {'name': 'student30',\n",
       "  'chinese': 51,\n",
       "  'english': 70,\n",
       "  'math': 73,\n",
       "  'history': 79,\n",
       "  'health': 90},\n",
       " {'name': 'student31',\n",
       "  'chinese': 98,\n",
       "  'english': 86,\n",
       "  'math': 87,\n",
       "  'history': 87,\n",
       "  'health': 87},\n",
       " {'name': 'student32',\n",
       "  'chinese': 64,\n",
       "  'english': 82,\n",
       "  'math': 87,\n",
       "  'history': 88,\n",
       "  'health': 84},\n",
       " {'name': 'student33',\n",
       "  'chinese': 96,\n",
       "  'english': 68,\n",
       "  'math': 58,\n",
       "  'history': 72,\n",
       "  'health': 71},\n",
       " {'name': 'student34',\n",
       "  'chinese': 91,\n",
       "  'english': 83,\n",
       "  'math': 84,\n",
       "  'history': 96,\n",
       "  'health': 50},\n",
       " {'name': 'student35',\n",
       "  'chinese': 82,\n",
       "  'english': 64,\n",
       "  'math': 69,\n",
       "  'history': 88,\n",
       "  'health': 100},\n",
       " {'name': 'student36',\n",
       "  'chinese': 100,\n",
       "  'english': 72,\n",
       "  'math': 92,\n",
       "  'history': 73,\n",
       "  'health': 86},\n",
       " {'name': 'student37',\n",
       "  'chinese': 96,\n",
       "  'english': 81,\n",
       "  'math': 75,\n",
       "  'history': 69,\n",
       "  'health': 65},\n",
       " {'name': 'student38',\n",
       "  'chinese': 62,\n",
       "  'english': 68,\n",
       "  'math': 82,\n",
       "  'history': 88,\n",
       "  'health': 93},\n",
       " {'name': 'student39',\n",
       "  'chinese': 75,\n",
       "  'english': 52,\n",
       "  'math': 55,\n",
       "  'history': 55,\n",
       "  'health': 81},\n",
       " {'name': 'student40',\n",
       "  'chinese': 84,\n",
       "  'english': 85,\n",
       "  'math': 61,\n",
       "  'history': 92,\n",
       "  'health': 90},\n",
       " {'name': 'student41',\n",
       "  'chinese': 66,\n",
       "  'english': 98,\n",
       "  'math': 62,\n",
       "  'history': 86,\n",
       "  'health': 55},\n",
       " {'name': 'student42',\n",
       "  'chinese': 85,\n",
       "  'english': 78,\n",
       "  'math': 57,\n",
       "  'history': 81,\n",
       "  'health': 93},\n",
       " {'name': 'student43',\n",
       "  'chinese': 85,\n",
       "  'english': 88,\n",
       "  'math': 50,\n",
       "  'history': 60,\n",
       "  'health': 77},\n",
       " {'name': 'student44',\n",
       "  'chinese': 79,\n",
       "  'english': 72,\n",
       "  'math': 81,\n",
       "  'history': 82,\n",
       "  'health': 82},\n",
       " {'name': 'student45',\n",
       "  'chinese': 55,\n",
       "  'english': 70,\n",
       "  'math': 67,\n",
       "  'history': 82,\n",
       "  'health': 79},\n",
       " {'name': 'student46',\n",
       "  'chinese': 67,\n",
       "  'english': 96,\n",
       "  'math': 50,\n",
       "  'history': 100,\n",
       "  'health': 85},\n",
       " {'name': 'student47',\n",
       "  'chinese': 77,\n",
       "  'english': 60,\n",
       "  'math': 94,\n",
       "  'history': 69,\n",
       "  'health': 63},\n",
       " {'name': 'student48',\n",
       "  'chinese': 58,\n",
       "  'english': 54,\n",
       "  'math': 79,\n",
       "  'history': 53,\n",
       "  'health': 66},\n",
       " {'name': 'student49',\n",
       "  'chinese': 96,\n",
       "  'english': 62,\n",
       "  'math': 85,\n",
       "  'history': 95,\n",
       "  'health': 93},\n",
       " {'name': 'student50',\n",
       "  'chinese': 79,\n",
       "  'english': 56,\n",
       "  'math': 70,\n",
       "  'history': 93,\n",
       "  'health': 76}]"
      ]
     },
     "execution_count": 92,
     "metadata": {},
     "output_type": "execute_result"
    }
   ],
   "source": [
    "import random\n",
    "\n",
    "students = []\n",
    "for i in range(1,51):\n",
    "    students.append(\n",
    "        {\n",
    "            'name':f'student{i}',\n",
    "            'chinese':random.randint(50,100),\n",
    "            'english':random.randint(50,100),\n",
    "            'math':random.randint(50,100),\n",
    "            'history':random.randint(50,100),\n",
    "            'health':random.randint(50,100)\n",
    "         }\n",
    "    )\n",
    "\n",
    "students"
   ]
  },
  {
   "cell_type": "code",
   "execution_count": 80,
   "metadata": {},
   "outputs": [
    {
     "name": "stdout",
     "output_type": "stream",
     "text": [
      "{'name': 'student1', 'chinese': 79, 'English': 86, 'math': 69, 'history': 55, 'health': 76}\n",
      "{'name': 'student2', 'chinese': 87, 'English': 65, 'math': 59, 'history': 93, 'health': 59}\n",
      "{'name': 'student3', 'chinese': 97, 'English': 93, 'math': 78, 'history': 95, 'health': 95}\n",
      "{'name': 'student4', 'chinese': 73, 'English': 65, 'math': 88, 'history': 51, 'health': 56}\n",
      "{'name': 'student5', 'chinese': 96, 'English': 92, 'math': 77, 'history': 73, 'health': 79}\n",
      "{'name': 'student6', 'chinese': 90, 'English': 86, 'math': 67, 'history': 69, 'health': 58}\n",
      "{'name': 'student7', 'chinese': 95, 'English': 50, 'math': 91, 'history': 90, 'health': 67}\n",
      "{'name': 'student8', 'chinese': 90, 'English': 75, 'math': 58, 'history': 91, 'health': 88}\n",
      "{'name': 'student9', 'chinese': 66, 'English': 82, 'math': 65, 'history': 78, 'health': 100}\n",
      "{'name': 'student10', 'chinese': 71, 'English': 96, 'math': 55, 'history': 53, 'health': 71}\n",
      "{'name': 'student11', 'chinese': 77, 'English': 59, 'math': 53, 'history': 96, 'health': 84}\n",
      "{'name': 'student12', 'chinese': 99, 'English': 84, 'math': 86, 'history': 98, 'health': 73}\n",
      "{'name': 'student13', 'chinese': 88, 'English': 99, 'math': 59, 'history': 84, 'health': 81}\n",
      "{'name': 'student14', 'chinese': 52, 'English': 71, 'math': 54, 'history': 89, 'health': 80}\n",
      "{'name': 'student15', 'chinese': 92, 'English': 50, 'math': 51, 'history': 51, 'health': 82}\n",
      "{'name': 'student16', 'chinese': 85, 'English': 85, 'math': 78, 'history': 54, 'health': 68}\n",
      "{'name': 'student17', 'chinese': 79, 'English': 79, 'math': 56, 'history': 74, 'health': 64}\n",
      "{'name': 'student18', 'chinese': 65, 'English': 97, 'math': 82, 'history': 75, 'health': 90}\n",
      "{'name': 'student19', 'chinese': 98, 'English': 74, 'math': 94, 'history': 71, 'health': 51}\n",
      "{'name': 'student20', 'chinese': 61, 'English': 59, 'math': 100, 'history': 79, 'health': 65}\n",
      "{'name': 'student21', 'chinese': 72, 'English': 100, 'math': 95, 'history': 86, 'health': 62}\n",
      "{'name': 'student22', 'chinese': 71, 'English': 61, 'math': 57, 'history': 85, 'health': 87}\n",
      "{'name': 'student23', 'chinese': 97, 'English': 93, 'math': 99, 'history': 58, 'health': 86}\n",
      "{'name': 'student24', 'chinese': 95, 'English': 94, 'math': 97, 'history': 55, 'health': 81}\n",
      "{'name': 'student25', 'chinese': 84, 'English': 99, 'math': 84, 'history': 91, 'health': 96}\n",
      "{'name': 'student26', 'chinese': 69, 'English': 64, 'math': 69, 'history': 75, 'health': 88}\n",
      "{'name': 'student27', 'chinese': 67, 'English': 64, 'math': 54, 'history': 72, 'health': 83}\n",
      "{'name': 'student28', 'chinese': 98, 'English': 59, 'math': 96, 'history': 86, 'health': 54}\n",
      "{'name': 'student29', 'chinese': 69, 'English': 93, 'math': 85, 'history': 100, 'health': 84}\n",
      "{'name': 'student30', 'chinese': 75, 'English': 92, 'math': 97, 'history': 80, 'health': 53}\n",
      "{'name': 'student31', 'chinese': 97, 'English': 85, 'math': 90, 'history': 100, 'health': 69}\n",
      "{'name': 'student32', 'chinese': 94, 'English': 99, 'math': 61, 'history': 90, 'health': 90}\n",
      "{'name': 'student33', 'chinese': 74, 'English': 96, 'math': 92, 'history': 89, 'health': 52}\n",
      "{'name': 'student34', 'chinese': 92, 'English': 68, 'math': 85, 'history': 64, 'health': 95}\n",
      "{'name': 'student35', 'chinese': 54, 'English': 90, 'math': 59, 'history': 67, 'health': 66}\n",
      "{'name': 'student36', 'chinese': 77, 'English': 84, 'math': 50, 'history': 97, 'health': 99}\n",
      "{'name': 'student37', 'chinese': 68, 'English': 96, 'math': 69, 'history': 85, 'health': 86}\n",
      "{'name': 'student38', 'chinese': 82, 'English': 88, 'math': 94, 'history': 89, 'health': 71}\n",
      "{'name': 'student39', 'chinese': 56, 'English': 74, 'math': 84, 'history': 68, 'health': 53}\n",
      "{'name': 'student40', 'chinese': 73, 'English': 60, 'math': 76, 'history': 79, 'health': 57}\n",
      "{'name': 'student41', 'chinese': 75, 'English': 93, 'math': 84, 'history': 71, 'health': 50}\n",
      "{'name': 'student42', 'chinese': 91, 'English': 66, 'math': 74, 'history': 83, 'health': 82}\n",
      "{'name': 'student43', 'chinese': 83, 'English': 75, 'math': 78, 'history': 66, 'health': 85}\n",
      "{'name': 'student44', 'chinese': 97, 'English': 77, 'math': 83, 'history': 88, 'health': 74}\n",
      "{'name': 'student45', 'chinese': 98, 'English': 83, 'math': 100, 'history': 55, 'health': 59}\n",
      "{'name': 'student46', 'chinese': 71, 'English': 78, 'math': 51, 'history': 80, 'health': 81}\n",
      "{'name': 'student47', 'chinese': 71, 'English': 66, 'math': 59, 'history': 85, 'health': 93}\n",
      "{'name': 'student48', 'chinese': 65, 'English': 85, 'math': 50, 'history': 53, 'health': 76}\n",
      "{'name': 'student49', 'chinese': 52, 'English': 80, 'math': 83, 'history': 73, 'health': 88}\n",
      "{'name': 'student50', 'chinese': 88, 'English': 65, 'math': 65, 'history': 74, 'health': 72}\n"
     ]
    }
   ],
   "source": [
    "for scores in students:\n",
    "    print(scores)"
   ]
  },
  {
   "cell_type": "code",
   "execution_count": 93,
   "metadata": {},
   "outputs": [
    {
     "name": "stdout",
     "output_type": "stream",
     "text": [
      "姓名:student1, 國文:66, 英文:90, 數學:63, 歷史:66, 健康:78\n",
      "姓名:student2, 國文:75, 英文:76, 數學:59, 歷史:84, 健康:70\n",
      "姓名:student3, 國文:54, 英文:57, 數學:100, 歷史:74, 健康:62\n",
      "姓名:student4, 國文:72, 英文:68, 數學:79, 歷史:51, 健康:63\n",
      "姓名:student5, 國文:70, 英文:85, 數學:83, 歷史:77, 健康:86\n",
      "姓名:student6, 國文:52, 英文:89, 數學:84, 歷史:66, 健康:62\n",
      "姓名:student7, 國文:87, 英文:73, 數學:67, 歷史:86, 健康:59\n",
      "姓名:student8, 國文:67, 英文:68, 數學:60, 歷史:75, 健康:52\n",
      "姓名:student9, 國文:62, 英文:85, 數學:97, 歷史:61, 健康:93\n",
      "姓名:student10, 國文:71, 英文:96, 數學:74, 歷史:79, 健康:66\n",
      "姓名:student11, 國文:59, 英文:88, 數學:70, 歷史:98, 健康:69\n",
      "姓名:student12, 國文:86, 英文:78, 數學:83, 歷史:70, 健康:92\n",
      "姓名:student13, 國文:95, 英文:67, 數學:51, 歷史:89, 健康:53\n",
      "姓名:student14, 國文:88, 英文:55, 數學:85, 歷史:62, 健康:56\n",
      "姓名:student15, 國文:77, 英文:98, 數學:81, 歷史:91, 健康:86\n",
      "姓名:student16, 國文:81, 英文:81, 數學:87, 歷史:99, 健康:74\n",
      "姓名:student17, 國文:96, 英文:53, 數學:88, 歷史:72, 健康:74\n",
      "姓名:student18, 國文:70, 英文:50, 數學:64, 歷史:83, 健康:82\n",
      "姓名:student19, 國文:56, 英文:77, 數學:84, 歷史:91, 健康:88\n",
      "姓名:student20, 國文:56, 英文:64, 數學:64, 歷史:74, 健康:56\n",
      "姓名:student21, 國文:68, 英文:59, 數學:72, 歷史:96, 健康:75\n",
      "姓名:student22, 國文:77, 英文:62, 數學:87, 歷史:82, 健康:56\n",
      "姓名:student23, 國文:50, 英文:93, 數學:83, 歷史:77, 健康:79\n",
      "姓名:student24, 國文:96, 英文:87, 數學:90, 歷史:71, 健康:74\n",
      "姓名:student25, 國文:52, 英文:66, 數學:95, 歷史:63, 健康:74\n",
      "姓名:student26, 國文:56, 英文:68, 數學:62, 歷史:59, 健康:84\n",
      "姓名:student27, 國文:95, 英文:61, 數學:57, 歷史:63, 健康:51\n",
      "姓名:student28, 國文:75, 英文:66, 數學:92, 歷史:76, 健康:70\n",
      "姓名:student29, 國文:100, 英文:93, 數學:54, 歷史:77, 健康:75\n",
      "姓名:student30, 國文:51, 英文:70, 數學:73, 歷史:79, 健康:90\n",
      "姓名:student31, 國文:98, 英文:86, 數學:87, 歷史:87, 健康:87\n",
      "姓名:student32, 國文:64, 英文:82, 數學:87, 歷史:88, 健康:84\n",
      "姓名:student33, 國文:96, 英文:68, 數學:58, 歷史:72, 健康:71\n",
      "姓名:student34, 國文:91, 英文:83, 數學:84, 歷史:96, 健康:50\n",
      "姓名:student35, 國文:82, 英文:64, 數學:69, 歷史:88, 健康:100\n",
      "姓名:student36, 國文:100, 英文:72, 數學:92, 歷史:73, 健康:86\n",
      "姓名:student37, 國文:96, 英文:81, 數學:75, 歷史:69, 健康:65\n",
      "姓名:student38, 國文:62, 英文:68, 數學:82, 歷史:88, 健康:93\n",
      "姓名:student39, 國文:75, 英文:52, 數學:55, 歷史:55, 健康:81\n",
      "姓名:student40, 國文:84, 英文:85, 數學:61, 歷史:92, 健康:90\n",
      "姓名:student41, 國文:66, 英文:98, 數學:62, 歷史:86, 健康:55\n",
      "姓名:student42, 國文:85, 英文:78, 數學:57, 歷史:81, 健康:93\n",
      "姓名:student43, 國文:85, 英文:88, 數學:50, 歷史:60, 健康:77\n",
      "姓名:student44, 國文:79, 英文:72, 數學:81, 歷史:82, 健康:82\n",
      "姓名:student45, 國文:55, 英文:70, 數學:67, 歷史:82, 健康:79\n",
      "姓名:student46, 國文:67, 英文:96, 數學:50, 歷史:100, 健康:85\n",
      "姓名:student47, 國文:77, 英文:60, 數學:94, 歷史:69, 健康:63\n",
      "姓名:student48, 國文:58, 英文:54, 數學:79, 歷史:53, 健康:66\n",
      "姓名:student49, 國文:96, 英文:62, 數學:85, 歷史:95, 健康:93\n",
      "姓名:student50, 國文:79, 英文:56, 數學:70, 歷史:93, 健康:76\n"
     ]
    }
   ],
   "source": [
    "# 將 students 列表轉換為字串\n",
    "\n",
    "students_str = '\\n'.join([\n",
    "    f\"姓名:{student['name']}, \"\n",
    "    f\"國文:{student['chinese']}, \"\n",
    "    f\"英文:{student['english']}, \"\n",
    "    f\"數學:{student['math']}, \"\n",
    "    f\"歷史:{student['history']}, \"\n",
    "    f\"健康:{student['health']}\"\n",
    "    for student in students\n",
    "])\n",
    "\n",
    "print(students_str)"
   ]
  },
  {
   "cell_type": "code",
   "execution_count": 95,
   "metadata": {},
   "outputs": [],
   "source": [
    "print(students_str,file=open(\"students.txt\",mode='w',encoding='utf-8'))"
   ]
  }
 ],
 "metadata": {
  "kernelspec": {
   "display_name": "base",
   "language": "python",
   "name": "python3"
  },
  "language_info": {
   "codemirror_mode": {
    "name": "ipython",
    "version": 3
   },
   "file_extension": ".py",
   "mimetype": "text/x-python",
   "name": "python",
   "nbconvert_exporter": "python",
   "pygments_lexer": "ipython3",
   "version": "3.12.8"
  }
 },
 "nbformat": 4,
 "nbformat_minor": 2
}
