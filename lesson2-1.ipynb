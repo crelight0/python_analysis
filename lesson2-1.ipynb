{
 "cells": [
  {
   "cell_type": "code",
   "execution_count": 3,
   "metadata": {},
   "outputs": [
    {
     "name": "stdout",
     "output_type": "stream",
     "text": [
      "10\n",
      "20\n"
     ]
    }
   ],
   "source": [
    "2 * (1 + 2) ** 2 - 2 ** 2 * 2\n",
    "print(2 * (1 + 2) ** 2 - 2 ** 2 * 2)\n",
    "print((2+3) * 4)\n",
    "\n",
    "# 先乘除後加減，括號優先，次方運算最優先    \n",
    "# 所有數學運算都會傳出東西\n",
    "# = 符號不會傳出東西\n",
    "\n"
   ]
  },
  {
   "cell_type": "code",
   "execution_count": 13,
   "metadata": {},
   "outputs": [
    {
     "name": "stdout",
     "output_type": "stream",
     "text": [
      "17\n"
     ]
    }
   ],
   "source": [
    "1 + 5\n",
    "n = 1 + 5 #宣告變數\n",
    "n + 5\n",
    "m = n + 5\n",
    "\n",
    "n + m\n",
    "\n",
    "print(n+m)"
   ]
  },
  {
   "cell_type": "code",
   "execution_count": 17,
   "metadata": {},
   "outputs": [
    {
     "name": "stdout",
     "output_type": "stream",
     "text": [
      "<class 'str'>\n"
     ]
    }
   ],
   "source": [
    "x = input('請輸入x的值:')\n",
    "print(type(x))\n",
    "result = float(x) + 10"
   ]
  },
  {
   "cell_type": "code",
   "execution_count": 38,
   "metadata": {},
   "outputs": [
    {
     "name": "stdout",
     "output_type": "stream",
     "text": [
      "4-11-13.0-hello.\n"
     ]
    }
   ],
   "source": [
    "radius = float(input('請輸入半徑:'))\n",
    "print(4,11,13.0,'hello',sep='-',end='.\\n')"
   ]
  },
  {
   "cell_type": "code",
   "execution_count": 40,
   "metadata": {},
   "outputs": [
    {
     "name": "stdout",
     "output_type": "stream",
     "text": [
      "3+5+8\n",
      "4+5+9\n",
      "\n",
      "9+9=18\n"
     ]
    }
   ],
   "source": [
    "print(\"3+5+8\")\n",
    "print(\"4+5+9\")\n",
    "print()\n",
    "print(\"9+9=18\")"
   ]
  },
  {
   "cell_type": "code",
   "execution_count": 43,
   "metadata": {},
   "outputs": [
    {
     "name": "stdout",
     "output_type": "stream",
     "text": [
      "半徑 5.0\n",
      "直徑 10.0\n",
      "圓周長 31.415926585\n",
      "圓面積 78.5398164625\n"
     ]
    }
   ],
   "source": [
    "radius = float(input('請輸入半徑:'))\n",
    "diameter = 2 * radius\n",
    "circumference = 2 * 3.1415926585 * radius\n",
    "area = 3.1415926585 * radius ** 2 \n",
    "\n",
    "print(\"半徑\",radius)\n",
    "print(\"直徑\",diameter)\n",
    "print(\"圓周長\",circumference)\n",
    "print(\"圓面積\",area)"
   ]
  },
  {
   "cell_type": "code",
   "execution_count": 47,
   "metadata": {},
   "outputs": [
    {
     "name": "stdout",
     "output_type": "stream",
     "text": [
      "對邊 3.0\n",
      "鄰邊 4.0\n",
      "斜邊 5.0\n"
     ]
    }
   ],
   "source": [
    "import math # 使用math 工具箱\n",
    "\n",
    "Opposite = float(input(\"請輸入對邊:\"))\n",
    "Adjacent = float(input(\"請輸入鄰邊\"))\n",
    "Hypotenuse = math.sqrt(Opposite ** 2 + Adjacent ** 2 )\n",
    "\n",
    "print(\"對邊\",Opposite)\n",
    "print(\"鄰邊\",Adjacent)\n",
    "print(\"斜邊\",Hypotenuse)"
   ]
  },
  {
   "cell_type": "code",
   "execution_count": 49,
   "metadata": {},
   "outputs": [
    {
     "name": "stdout",
     "output_type": "stream",
     "text": [
      "Requirement already satisfied: numpy in /opt/conda/lib/python3.12/site-packages (2.2.1)\n",
      "\u001b[33mWARNING: Running pip as the 'root' user can result in broken permissions and conflicting behaviour with the system package manager, possibly rendering your system unusable.It is recommended to use a virtual environment instead: https://pip.pypa.io/warnings/venv. Use the --root-user-action option if you know what you are doing and want to suppress this warning.\u001b[0m\u001b[33m\n",
      "\u001b[0mNote: you may need to restart the kernel to use updated packages.\n"
     ]
    }
   ],
   "source": [
    "pip install numpy"
   ]
  },
  {
   "cell_type": "code",
   "execution_count": 51,
   "metadata": {},
   "outputs": [],
   "source": [
    "import numpy as np\n",
    "\n"
   ]
  }
 ],
 "metadata": {
  "kernelspec": {
   "display_name": "base",
   "language": "python",
   "name": "python3"
  },
  "language_info": {
   "codemirror_mode": {
    "name": "ipython",
    "version": 3
   },
   "file_extension": ".py",
   "mimetype": "text/x-python",
   "name": "python",
   "nbconvert_exporter": "python",
   "pygments_lexer": "ipython3",
   "version": "3.12.2"
  }
 },
 "nbformat": 4,
 "nbformat_minor": 2
}
