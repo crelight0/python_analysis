{
 "cells": [
  {
   "cell_type": "code",
   "execution_count": 3,
   "metadata": {},
   "outputs": [
    {
     "name": "stdout",
     "output_type": "stream",
     "text": [
      "10\n",
      "20\n"
     ]
    }
   ],
   "source": [
    "2 * (1 + 2) ** 2 - 2 ** 2 * 2\n",
    "print(2 * (1 + 2) ** 2 - 2 ** 2 * 2)\n",
    "print((2+3) * 4)\n",
    "\n",
    "# 先乘除後加減，括號優先，次方運算最優先    \n",
    "# 所有數學運算都會傳出東西\n",
    "# = 符號不會傳出東西\n",
    "\n"
   ]
  },
  {
   "cell_type": "code",
   "execution_count": 13,
   "metadata": {},
   "outputs": [
    {
     "name": "stdout",
     "output_type": "stream",
     "text": [
      "17\n"
     ]
    }
   ],
   "source": [
    "1 + 5\n",
    "n = 1 + 5 #宣告變數\n",
    "n + 5\n",
    "m = n + 5\n",
    "\n",
    "n + m\n",
    "\n",
    "print(n+m)"
   ]
  },
  {
   "cell_type": "code",
   "execution_count": 17,
   "metadata": {},
   "outputs": [
    {
     "name": "stdout",
     "output_type": "stream",
     "text": [
      "<class 'str'>\n"
     ]
    }
   ],
   "source": [
    "x = input('請輸入x的值:')\n",
    "print(type(x))\n",
    "result = float(x) + 10"
   ]
  },
  {
   "cell_type": "code",
   "execution_count": 38,
   "metadata": {},
   "outputs": [
    {
     "name": "stdout",
     "output_type": "stream",
     "text": [
      "4-11-13.0-hello.\n"
     ]
    }
   ],
   "source": [
    "radius = float(input('請輸入半徑:'))\n",
    "print(4,11,13.0,'hello',sep='-',end='.\\n')"
   ]
  },
  {
   "cell_type": "code",
   "execution_count": 40,
   "metadata": {},
   "outputs": [
    {
     "name": "stdout",
     "output_type": "stream",
     "text": [
      "3+5+8\n",
      "4+5+9\n",
      "\n",
      "9+9=18\n"
     ]
    }
   ],
   "source": [
    "print(\"3+5+8\")\n",
    "print(\"4+5+9\")\n",
    "print()\n",
    "print(\"9+9=18\")"
   ]
  },
  {
   "cell_type": "code",
   "execution_count": 43,
   "metadata": {},
   "outputs": [
    {
     "name": "stdout",
     "output_type": "stream",
     "text": [
      "半徑 5.0\n",
      "直徑 10.0\n",
      "圓周長 31.415926585\n",
      "圓面積 78.5398164625\n"
     ]
    }
   ],
   "source": [
    "radius = float(input('請輸入半徑:'))\n",
    "diameter = 2 * radius\n",
    "circumference = 2 * 3.1415926585 * radius\n",
    "area = 3.1415926585 * radius ** 2 \n",
    "\n",
    "print(\"半徑\",radius)\n",
    "print(\"直徑\",diameter)\n",
    "print(\"圓周長\",circumference)\n",
    "print(\"圓面積\",area)"
   ]
  },
  {
   "cell_type": "code",
   "execution_count": 47,
   "metadata": {},
   "outputs": [
    {
     "name": "stdout",
     "output_type": "stream",
     "text": [
      "對邊 3.0\n",
      "鄰邊 4.0\n",
      "斜邊 5.0\n"
     ]
    }
   ],
   "source": [
    "import math # 使用math 工具箱\n",
    "\n",
    "Opposite = float(input(\"請輸入對邊:\"))\n",
    "Adjacent = float(input(\"請輸入鄰邊\"))\n",
    "Hypotenuse = math.sqrt(Opposite ** 2 + Adjacent ** 2 )\n",
    "\n",
    "print(\"對邊\",Opposite)\n",
    "print(\"鄰邊\",Adjacent)\n",
    "print(\"斜邊\",Hypotenuse)"
   ]
  },
  {
   "cell_type": "code",
   "execution_count": 55,
   "metadata": {},
   "outputs": [
    {
     "name": "stdout",
     "output_type": "stream",
     "text": [
      "數據集 [2 4 4 4 5 5 7 9]\n",
      "標準差 2.0\n",
      "樣本標準差 2.138089935299395\n"
     ]
    }
   ],
   "source": [
    "import numpy as np\n",
    "\n",
    "data = np.array([2,4,4,4,5,5,7,9])\n",
    "\n",
    "std_dev = np.std(data)\n",
    "\n",
    "print(\"數據集\",data)\n",
    "print(\"標準差\",std_dev)\n",
    "\n",
    "sample_std = np.std(data, ddof=1)\n",
    "print(\"樣本標準差\",sample_std)"
   ]
  },
  {
   "cell_type": "code",
   "execution_count": 56,
   "metadata": {},
   "outputs": [],
   "source": [
    "# python 內建的資料結構\n",
    "# list\n",
    "# tuple(暫時包在一起的值)\n",
    "# dict(dictionary)\n",
    "# set(集合)\n"
   ]
  },
  {
   "cell_type": "code",
   "execution_count": null,
   "metadata": {},
   "outputs": [],
   "source": [
    "# 用符號建立list\n",
    "# [6,8,9]"
   ]
  }
 ],
 "metadata": {
  "kernelspec": {
   "display_name": "base",
   "language": "python",
   "name": "python3"
  },
  "language_info": {
   "codemirror_mode": {
    "name": "ipython",
    "version": 3
   },
   "file_extension": ".py",
   "mimetype": "text/x-python",
   "name": "python",
   "nbconvert_exporter": "python",
   "pygments_lexer": "ipython3",
   "version": "3.12.2"
  }
 },
 "nbformat": 4,
 "nbformat_minor": 2
}
