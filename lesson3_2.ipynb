{
 "cells": [
  {
   "cell_type": "code",
   "execution_count": 6,
   "metadata": {},
   "outputs": [
    {
     "data": {
      "text/plain": [
       "{'name': 'ttl', 'age': 40, 'city': 'Taipei'}"
      ]
     },
     "execution_count": 6,
     "metadata": {},
     "output_type": "execute_result"
    }
   ],
   "source": [
    "p1 = {'name':'ttl',\n",
    "'age':40,\n",
    "'city':'Taipei'}\n",
    "p1"
   ]
  },
  {
   "cell_type": "code",
   "execution_count": 11,
   "metadata": {},
   "outputs": [
    {
     "name": "stdout",
     "output_type": "stream",
     "text": [
      "ttl\n",
      "40\n"
     ]
    }
   ],
   "source": [
    "print(p1['name'])\n",
    "print(p1.get('age'))"
   ]
  },
  {
   "cell_type": "code",
   "execution_count": 12,
   "metadata": {},
   "outputs": [
    {
     "data": {
      "text/plain": [
       "40"
      ]
     },
     "execution_count": 12,
     "metadata": {},
     "output_type": "execute_result"
    }
   ],
   "source": [
    "del p1['city']\n",
    "p1.pop('age')"
   ]
  },
  {
   "cell_type": "code",
   "execution_count": 14,
   "metadata": {},
   "outputs": [],
   "source": [
    "del p1"
   ]
  },
  {
   "cell_type": "code",
   "execution_count": 15,
   "metadata": {},
   "outputs": [
    {
     "ename": "NameError",
     "evalue": "name 'p1' is not defined",
     "output_type": "error",
     "traceback": [
      "\u001b[0;31m---------------------------------------------------------------------------\u001b[0m",
      "\u001b[0;31mNameError\u001b[0m                                 Traceback (most recent call last)",
      "Cell \u001b[0;32mIn[15], line 1\u001b[0m\n\u001b[0;32m----> 1\u001b[0m \u001b[43mp1\u001b[49m\n",
      "\u001b[0;31mNameError\u001b[0m: name 'p1' is not defined"
     ]
    }
   ],
   "source": [
    "p1"
   ]
  },
  {
   "cell_type": "code",
   "execution_count": 23,
   "metadata": {},
   "outputs": [
    {
     "name": "stdout",
     "output_type": "stream",
     "text": [
      "Paris\n",
      "{'USA': 'Washington, D.C.', 'France': 'Paris', 'Japan': 'Kyoto', 'Germany': 'Berlin'}\n",
      "False\n"
     ]
    }
   ],
   "source": [
    "capitals = {\"USA\":\"Washington, D.C.\",\"France\":\"Paris\",\"Japan\":\"Tokyo\"}\n",
    "print(capitals[\"France\"])\n",
    "\n",
    "capitals[\"Germany\"] = \"Berlin\"\n",
    "capitals[\"Japan\"] = \"Kyoto\"\n",
    "print(capitals)\n",
    "\n",
    "\n",
    "del capitals[\"USA\"]\n",
    "print(\"USA\" in capitals)\n"
   ]
  },
  {
   "cell_type": "code",
   "execution_count": 29,
   "metadata": {},
   "outputs": [
    {
     "name": "stdout",
     "output_type": "stream",
     "text": [
      "The capital of France is Marseille\n",
      "The capital of Japan is Kyoto\n",
      "The capital of Germany is Berlin\n",
      "The capital of Italy is Rome\n"
     ]
    }
   ],
   "source": [
    "for country, capital in capitals.items():\n",
    "    print(f\"The capital of {country} is {capital}\")\n"
   ]
  },
  {
   "cell_type": "code",
   "execution_count": 26,
   "metadata": {},
   "outputs": [
    {
     "name": "stdout",
     "output_type": "stream",
     "text": [
      "{'France': 'Marseille', 'Japan': 'Kyoto', 'Germany': 'Berlin', 'Italy': 'Rome'}\n",
      "4\n",
      "['France', 'Japan', 'Germany', 'Italy']\n",
      "['Marseille', 'Kyoto', 'Berlin', 'Rome']\n"
     ]
    }
   ],
   "source": [
    "more_capitals = {\"Italy\": \"Rome\", \"France\": \"Marseille\"}\n",
    "capitals.update(more_capitals)\n",
    "print(capitals)  # France 的首都會被更新為 Marseille\n",
    "\n",
    "print(len(capitals))           # 字典長度\n",
    "print(list(capitals.keys()))   # 所有鍵\n",
    "print(list(capitals.values())) # 所有值\n"
   ]
  },
  {
   "cell_type": "code",
   "execution_count": 27,
   "metadata": {},
   "outputs": [
    {
     "name": "stdout",
     "output_type": "stream",
     "text": [
      "{'Marseille': 'France', 'Kyoto': 'Japan', 'Berlin': 'Germany', 'Rome': 'Italy'}\n"
     ]
    }
   ],
   "source": [
    "reversed_dict = {value: key for key, value in capitals.items()}\n",
    "print(reversed_dict)\n"
   ]
  },
  {
   "cell_type": "code",
   "execution_count": 33,
   "metadata": {},
   "outputs": [
    {
     "name": "stdout",
     "output_type": "stream",
     "text": [
      "蘋果\n",
      "香蕉\n",
      "橘子\n"
     ]
    }
   ],
   "source": [
    "fruits = ['蘋果','香蕉','橘子']\n",
    "\n",
    "for fruit in fruits:\n",
    "    print(fruit)\n"
   ]
  },
  {
   "cell_type": "code",
   "execution_count": 35,
   "metadata": {},
   "outputs": [
    {
     "name": "stdout",
     "output_type": "stream",
     "text": [
      "(0, '蘋果')\n",
      "(1, '香蕉')\n",
      "(2, '橘子')\n"
     ]
    }
   ],
   "source": [
    "for fruit in enumerate(fruits):\n",
    "    print(fruit)"
   ]
  },
  {
   "cell_type": "code",
   "execution_count": 37,
   "metadata": {},
   "outputs": [
    {
     "name": "stdout",
     "output_type": "stream",
     "text": [
      "0->蘋果\n",
      "=====\n",
      "1->香蕉\n",
      "=====\n",
      "2->橘子\n",
      "=====\n"
     ]
    }
   ],
   "source": [
    "for index,fruit in enumerate(fruits):\n",
    "    print(index, fruit,sep='->')\n",
    "    print(\"=====\")"
   ]
  },
  {
   "cell_type": "code",
   "execution_count": 39,
   "metadata": {},
   "outputs": [
    {
     "name": "stdout",
     "output_type": "stream",
     "text": [
      "1\n",
      "2\n",
      "3\n",
      "4\n",
      "5\n",
      "6\n",
      "7\n",
      "8\n",
      "9\n",
      "10\n",
      "apple\n",
      "banana\n",
      "cherry\n",
      "date\n"
     ]
    }
   ],
   "source": [
    "for i in range(1,11):\n",
    "    print(i)\n",
    "\n",
    "fruits = [\"apple\", \"banana\", \"cherry\", \"date\"]\n",
    "\n",
    "for fruit in  fruits:\n",
    "    print(fruit)"
   ]
  },
  {
   "cell_type": "code",
   "execution_count": 43,
   "metadata": {},
   "outputs": [
    {
     "name": "stdout",
     "output_type": "stream",
     "text": [
      "Total: 150\n"
     ]
    }
   ],
   "source": [
    "numbers = [10,20,30,40,50]\n",
    "total = 0\n",
    "for num in numbers:\n",
    "    total += num\n",
    "print(\"Total:\", total)"
   ]
  },
  {
   "cell_type": "code",
   "execution_count": 46,
   "metadata": {},
   "outputs": [
    {
     "name": "stdout",
     "output_type": "stream",
     "text": [
      "Taipei:台北市\n",
      "New Taipei:新北市\n",
      "Taoyuan:桃園市\n",
      "Taichung:台中市\n",
      "Tainan:台南市\n",
      "Kaohsiung:高雄市\n",
      "Keelung:基隆市\n",
      "Hsinchu:新竹市\n",
      "Chiayi:嘉義市\n",
      "Yilan:宜蘭縣\n"
     ]
    }
   ],
   "source": [
    "taiwan_cities = {\n",
    "    \"Taipei\": \"台北市\",\n",
    "    \"New Taipei\": \"新北市\",\n",
    "    \"Taoyuan\": \"桃園市\",\n",
    "    \"Taichung\": \"台中市\",\n",
    "    \"Tainan\": \"台南市\",\n",
    "    \"Kaohsiung\": \"高雄市\",\n",
    "    \"Keelung\": \"基隆市\",\n",
    "    \"Hsinchu\": \"新竹市\",\n",
    "    \"Chiayi\": \"嘉義市\",\n",
    "    \"Yilan\": \"宜蘭縣\"\n",
    "}\n",
    "\n",
    "for key, value in taiwan_cities.items():\n",
    "    print(f\"{key}:{value}\")"
   ]
  }
 ],
 "metadata": {
  "kernelspec": {
   "display_name": "base",
   "language": "python",
   "name": "python3"
  },
  "language_info": {
   "codemirror_mode": {
    "name": "ipython",
    "version": 3
   },
   "file_extension": ".py",
   "mimetype": "text/x-python",
   "name": "python",
   "nbconvert_exporter": "python",
   "pygments_lexer": "ipython3",
   "version": "3.12.2"
  }
 },
 "nbformat": 4,
 "nbformat_minor": 2
}
