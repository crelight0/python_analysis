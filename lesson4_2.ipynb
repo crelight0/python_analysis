{
 "cells": [
  {
   "cell_type": "code",
   "execution_count": 1,
   "metadata": {},
   "outputs": [
    {
     "data": {
      "text/plain": [
       "<_io.TextIOWrapper name='students.csv' mode='r' encoding='utf-8'>"
      ]
     },
     "execution_count": 1,
     "metadata": {},
     "output_type": "execute_result"
    }
   ],
   "source": [
    "open(file='students.csv',encoding='utf-8',mode='r')"
   ]
  },
  {
   "cell_type": "code",
   "execution_count": 3,
   "metadata": {},
   "outputs": [
    {
     "name": "stdout",
     "output_type": "stream",
     "text": [
      "['student20', '77', '71', '71', '55', '75']\n"
     ]
    }
   ],
   "source": [
    "import csv\n",
    "with open(file='students.csv',encoding='utf-8') as file:\n",
    "    reader = csv.reader(file)\n",
    "    next(reader)\n",
    "    students:list = list(reader)\n",
    "\n",
    "for student in students:\n",
    "    if student[0] == 'student20':\n",
    "        print(student)"
   ]
  },
  {
   "cell_type": "code",
   "execution_count": 6,
   "metadata": {},
   "outputs": [
    {
     "name": "stdout",
     "output_type": "stream",
     "text": [
      "{'name': 'student20', 'chinese': '77', 'english': '71', 'math': '71', 'history': '55', 'health': '75'}\n"
     ]
    }
   ],
   "source": [
    "import csv\n",
    "with open(file='students.csv',encoding='utf-8') as file:\n",
    "    reader = csv.DictReader(file)\n",
    "    students = list(reader)\n",
    "\n",
    "for student in students:\n",
    "    if student['name'] == 'student20':\n",
    "        print(student)\n"
   ]
  },
  {
   "cell_type": "code",
   "execution_count": null,
   "metadata": {},
   "outputs": [],
   "source": []
  }
 ],
 "metadata": {
  "kernelspec": {
   "display_name": "base",
   "language": "python",
   "name": "python3"
  },
  "language_info": {
   "codemirror_mode": {
    "name": "ipython",
    "version": 3
   },
   "file_extension": ".py",
   "mimetype": "text/x-python",
   "name": "python",
   "nbconvert_exporter": "python",
   "pygments_lexer": "ipython3",
   "version": "3.12.2"
  }
 },
 "nbformat": 4,
 "nbformat_minor": 2
}
